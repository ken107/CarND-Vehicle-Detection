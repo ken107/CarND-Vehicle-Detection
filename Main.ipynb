{
 "cells": [
  {
   "cell_type": "markdown",
   "metadata": {},
   "source": [
    "# Training"
   ]
  },
  {
   "cell_type": "code",
   "execution_count": null,
   "metadata": {},
   "outputs": [],
   "source": [
    "from training import train\n",
    "\n",
    "train(\n",
    "    color_space = 'YCrCb',\n",
    "    pixels_per_cell = 8,\n",
    "    cells_per_block = 2,\n",
    "    hog_orientations = 9,\n",
    "    color_hist_nbins = 16,\n",
    "    window_shape = (8,8)    #cells\n",
    ")"
   ]
  },
  {
   "cell_type": "markdown",
   "metadata": {},
   "source": [
    "# Pipeline"
   ]
  },
  {
   "cell_type": "code",
   "execution_count": null,
   "metadata": {
    "collapsed": true
   },
   "outputs": [],
   "source": [
    "import numpy as np\n",
    "import cv2\n",
    "from window_search import search_cars\n",
    "\n",
    "scales = [1]\n",
    "colors = [(1,0,0), (0,1,0), (0,0,1), (1,1,0), (0,1,1), (1,0,1)]\n",
    "cells_per_step = (2,2)\n",
    "\n",
    "def draw_boxes(img, bboxes, color, thick):\n",
    "    for bbox in bboxes:\n",
    "        cv2.rectangle(img, bbox[0], bbox[1], color, thick)\n",
    "\n",
    "def process(img):\n",
    "    img = img.astype(np.float32) / 255\n",
    "    \n",
    "    for scale, color in zip(scales, colors):\n",
    "        bboxes = search_cars(img, (360,None), scale, color_space, pixels_per_cell, cells_per_block, hog_orientations, color_hist_nbins, window_shape, cells_per_step, svc, X_scaler)\n",
    "        draw_boxes(img, bboxes, color=color, thick=5)\n",
    "\n",
    "    return (img*255).astype(np.uint8)"
   ]
  },
  {
   "cell_type": "markdown",
   "metadata": {},
   "source": [
    "# Testing"
   ]
  },
  {
   "cell_type": "code",
   "execution_count": null,
   "metadata": {
    "collapsed": true
   },
   "outputs": [],
   "source": [
    "from moviepy.editor import VideoFileClip\n",
    "import matplotlib.image as mpimg\n",
    "import matplotlib.pyplot as plt\n",
    "import pickle\n",
    "%matplotlib inline\n",
    "\n",
    "with open(\"model.p\", \"rb\") as f:\n",
    "    color_space, pixels_per_cell, cells_per_block, hog_orientations, color_hist_nbins, window_shape, svc, X_scaler = pickle.load(f)\n",
    "\n",
    "clip1 = VideoFileClip(\"project_video.mp4\")"
   ]
  },
  {
   "cell_type": "code",
   "execution_count": null,
   "metadata": {},
   "outputs": [],
   "source": [
    "image = mpimg.imread('test_images/test5.jpg')\n",
    "#image = clip1.get_frame(47)\n",
    "plt.imshow(process(image))"
   ]
  },
  {
   "cell_type": "code",
   "execution_count": null,
   "metadata": {
    "collapsed": true
   },
   "outputs": [],
   "source": []
  }
 ],
 "metadata": {
  "kernelspec": {
   "display_name": "Python 3",
   "language": "python",
   "name": "python3"
  },
  "language_info": {
   "codemirror_mode": {
    "name": "ipython",
    "version": 3
   },
   "file_extension": ".py",
   "mimetype": "text/x-python",
   "name": "python",
   "nbconvert_exporter": "python",
   "pygments_lexer": "ipython3",
   "version": "3.5.2"
  },
  "widgets": {
   "state": {},
   "version": "1.1.2"
  }
 },
 "nbformat": 4,
 "nbformat_minor": 2
}
