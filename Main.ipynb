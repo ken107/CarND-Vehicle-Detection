{
 "cells": [
  {
   "cell_type": "markdown",
   "metadata": {},
   "source": [
    "# Training"
   ]
  },
  {
   "cell_type": "code",
   "execution_count": null,
   "metadata": {
    "collapsed": true
   },
   "outputs": [],
   "source": [
    "from training import train\n",
    "\n",
    "train(\n",
    "    color_space = 'YCrCb',\n",
    "    pixels_per_cell = 8,\n",
    "    cells_per_block = 2,\n",
    "    hog_orientations = 9,\n",
    "    color_hist_nbins = 16,\n",
    "    window_shape = (8,8)    #cells\n",
    ")"
   ]
  },
  {
   "cell_type": "markdown",
   "metadata": {},
   "source": [
    "# Pipeline"
   ]
  },
  {
   "cell_type": "code",
   "execution_count": null,
   "metadata": {
    "collapsed": true
   },
   "outputs": [],
   "source": [
    "import cv2\n",
    "import numpy as np\n",
    "import pickle\n",
    "import matplotlib.image as mpimg\n",
    "import matplotlib.pyplot as plt\n",
    "from moviepy.editor import VideoFileClip\n",
    "from scipy.ndimage.measurements import label\n",
    "from window_search import search_cars\n",
    "%matplotlib inline\n",
    "\n",
    "\n",
    "with open(\"model.p\", \"rb\") as f:\n",
    "    color_space, pixels_per_cell, cells_per_block, hog_orientations, color_hist_nbins, window_shape, svc, X_scaler = pickle.load(f)\n",
    "    y_start_stop, cells_per_step = (360,None), (2,2)\n",
    "\n",
    "scales = [2/3]\n",
    "colors = [(1,0,0), (0,1,0), (0,0,1), (1,0,1), (0,1,1), (1,1,0)]\n",
    "heatmap = np.zeros(shape=(720,1280), dtype=np.int)\n",
    "\n",
    "\n",
    "def draw_bboxes(img, bboxes, color):\n",
    "    for bbox in bboxes:\n",
    "        cv2.rectangle(img, tuple(bbox[0]), tuple(bbox[1]), color, 5)\n",
    "\n",
    "def draw_labeled_bboxes(img, labels):\n",
    "    for car_number, color in zip(range(1, labels[1]+1), colors):\n",
    "        nonzero = (labels[0] == car_number).nonzero()\n",
    "        bbox = ((np.min(nonzero[1]), np.min(nonzero[0])), (np.max(nonzero[1]), np.max(nonzero[0])))\n",
    "        cv2.rectangle(img, bbox[0], bbox[1], color, 5)\n",
    "\n",
    "def process(img):\n",
    "    img = img.astype(np.float32)/255\n",
    "    \n",
    "    for scale, color in zip(scales, colors):\n",
    "        bboxes = search_cars(img, y_start_stop, scale, color_space, pixels_per_cell, cells_per_block, hog_orientations, color_hist_nbins, window_shape, cells_per_step, svc, X_scaler)\n",
    "        #draw_bboxes(img, bboxes, color)\n",
    "        for box in bboxes:\n",
    "            heatmap[box[0,1]:box[1,1], box[0,0]:box[1,0]] += 1\n",
    "    \n",
    "    heatmap[heatmap < 1] = 0\n",
    "    labels = label(heatmap)\n",
    "    print(labels[1], \"cars detected\")\n",
    "    draw_labeled_bboxes(img, labels)\n",
    "\n",
    "    return (img*255).astype(np.uint8)\n"
   ]
  },
  {
   "cell_type": "markdown",
   "metadata": {},
   "source": [
    "# Testing"
   ]
  },
  {
   "cell_type": "code",
   "execution_count": null,
   "metadata": {},
   "outputs": [],
   "source": [
    "plt.imshow(process(mpimg.imread('test_images/test5.jpg')))"
   ]
  },
  {
   "cell_type": "markdown",
   "metadata": {
    "collapsed": true
   },
   "source": [
    "# Video"
   ]
  },
  {
   "cell_type": "code",
   "execution_count": null,
   "metadata": {
    "collapsed": true
   },
   "outputs": [],
   "source": [
    "input_file = \"project_video.mp4\"\n",
    "output_file = \"../output/project_video.mp4\"\n",
    "\n",
    "clip1 = VideoFileClip(input_file)\n",
    "clip2 = clip1.fl_image(process)\n",
    "clip2.write_videofile(output_file, audio=False)"
   ]
  },
  {
   "cell_type": "code",
   "execution_count": null,
   "metadata": {},
   "outputs": [],
   "source": [
    "from IPython.display import HTML\n",
    "HTML(\"\"\"<video width=\"960\" height=\"540\" controls><source src=\\\"{0}\\\"></video>\"\"\".format(output_file))"
   ]
  },
  {
   "cell_type": "code",
   "execution_count": null,
   "metadata": {
    "collapsed": true
   },
   "outputs": [],
   "source": []
  }
 ],
 "metadata": {
  "kernelspec": {
   "display_name": "Python 3",
   "language": "python",
   "name": "python3"
  },
  "language_info": {
   "codemirror_mode": {
    "name": "ipython",
    "version": 3
   },
   "file_extension": ".py",
   "mimetype": "text/x-python",
   "name": "python",
   "nbconvert_exporter": "python",
   "pygments_lexer": "ipython3",
   "version": "3.5.2"
  },
  "widgets": {
   "state": {},
   "version": "1.1.2"
  }
 },
 "nbformat": 4,
 "nbformat_minor": 2
}
