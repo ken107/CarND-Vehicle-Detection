{
 "cells": [
  {
   "cell_type": "markdown",
   "metadata": {},
   "source": [
    "# Classifier Training"
   ]
  },
  {
   "cell_type": "code",
   "execution_count": null,
   "metadata": {
    "collapsed": false
   },
   "outputs": [],
   "source": [
    "from training import train\n",
    "\n",
    "train(\n",
    "    sample_size = None,\n",
    "    color_space = 'YCrCb', # Can be RGB, HSV, LUV, HLS, YUV, YCrCb\n",
    "    orient = 9,  # HOG orientations\n",
    "    pix_per_cell = 8, # HOG pixels per cell\n",
    "    cell_per_block = 2, # HOG cells per block\n",
    "    hog_channel = \"ALL\", # Can be 0, 1, 2, or \"ALL\"\n",
    "    spatial_size = (16, 16), # Spatial binning dimensions\n",
    "    hist_bins = 16,    # Number of histogram bins\n",
    "    hist_range = (0, 1),\n",
    "    spatial_feat = False, # Spatial features on or off\n",
    "    hist_feat = True, # Histogram features on or off\n",
    "    hog_feat = True # HOG features on or off\n",
    ")"
   ]
  },
  {
   "cell_type": "markdown",
   "metadata": {},
   "source": [
    "# Vehicle Detection Pipeline"
   ]
  },
  {
   "cell_type": "code",
   "execution_count": null,
   "metadata": {
    "collapsed": true
   },
   "outputs": [],
   "source": [
    "import numpy as np\n",
    "import cv2\n",
    "from window_search import *\n",
    "\n",
    "def draw_boxes(img, bboxes, color, thick):\n",
    "    for bbox in bboxes:\n",
    "        cv2.rectangle(img, bbox[0], bbox[1], color, thick)\n",
    "\n",
    "def process(image):\n",
    "    assert(image.dtype == np.uint8 and hist_range == (0,1))\n",
    "    image = image.astype(np.float32)/255\n",
    "\n",
    "    windows = slide_window(image,\n",
    "        x_start_stop=[None, None],\n",
    "        y_start_stop=[360, None],\n",
    "        xy_window=(96, 96),\n",
    "        xy_overlap=(0.5, 0.5))\n",
    "\n",
    "    hot_windows = search_windows(image, windows, svc, X_scaler,\n",
    "        color_space=color_space,\n",
    "        spatial_size=spatial_size,\n",
    "        hist_bins=hist_bins,\n",
    "        hist_range=hist_range,\n",
    "        orient=orient,\n",
    "        pix_per_cell=pix_per_cell,\n",
    "        cell_per_block=cell_per_block,\n",
    "        hog_channel=hog_channel,\n",
    "        spatial_feat=spatial_feat,\n",
    "        hist_feat=hist_feat,\n",
    "        hog_feat=hog_feat)\n",
    "\n",
    "    draw_boxes(image, hot_windows, color=(0, 0, 1), thick=6)\n",
    "    return (image*255).astype(np.uint8)\n"
   ]
  },
  {
   "cell_type": "markdown",
   "metadata": {},
   "source": [
    "# Testing"
   ]
  },
  {
   "cell_type": "code",
   "execution_count": null,
   "metadata": {
    "collapsed": false
   },
   "outputs": [],
   "source": [
    "import matplotlib.image as mpimg\n",
    "import matplotlib.pyplot as plt\n",
    "import pickle\n",
    "%matplotlib inline\n",
    "\n",
    "with open(\"model.p\", \"rb\") as f:\n",
    "    color_space, orient, pix_per_cell, cell_per_block, hog_channel, spatial_size, hist_bins, hist_range, spatial_feat, hist_feat, hog_feat, svc, X_scaler = pickle.load(f)\n",
    "\n",
    "\n",
    "image = mpimg.imread('test_images/test1.jpg')\n",
    "window_img = process(image)\n",
    "plt.imshow(window_img)"
   ]
  },
  {
   "cell_type": "markdown",
   "metadata": {},
   "source": [
    "# Video Processing"
   ]
  },
  {
   "cell_type": "code",
   "execution_count": null,
   "metadata": {
    "collapsed": false
   },
   "outputs": [],
   "source": [
    "from moviepy.editor import VideoFileClip\n",
    "\n",
    "input_file = \"test_video.mp4\"\n",
    "output_file = \"../output/test_video.mp4\"\n",
    "\n",
    "clip1 = VideoFileClip(input_file)\n",
    "clip2 = clip1.fl_image(process)\n",
    "clip2.write_videofile(output_file, audio=False)\n"
   ]
  },
  {
   "cell_type": "code",
   "execution_count": null,
   "metadata": {
    "collapsed": false
   },
   "outputs": [],
   "source": [
    "from IPython.display import HTML\n",
    "\n",
    "HTML(\"\"\"\n",
    "<video width=\"960\" height=\"540\" controls>\n",
    "  <source src=\"{0}\">\n",
    "</video>\n",
    "\"\"\".format(output_file))"
   ]
  },
  {
   "cell_type": "code",
   "execution_count": null,
   "metadata": {
    "collapsed": true
   },
   "outputs": [],
   "source": []
  }
 ],
 "metadata": {
  "kernelspec": {
   "display_name": "Python 3",
   "language": "python",
   "name": "python3"
  },
  "language_info": {
   "codemirror_mode": {
    "name": "ipython",
    "version": 3
   },
   "file_extension": ".py",
   "mimetype": "text/x-python",
   "name": "python",
   "nbconvert_exporter": "python",
   "pygments_lexer": "ipython3",
   "version": "3.5.2"
  },
  "widgets": {
   "state": {},
   "version": "1.1.2"
  }
 },
 "nbformat": 4,
 "nbformat_minor": 2
}
